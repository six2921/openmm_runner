{
 "cells": [
  {
   "cell_type": "code",
   "execution_count": 1,
   "id": "6484ef7a-038d-4010-a695-fbed1b7ae81e",
   "metadata": {},
   "outputs": [],
   "source": [
    "wd = \"/home/siu/tools/openmmtools/run_protein_ligand_complex\"\n",
    "protein_fn, ligand_fn = \"protein.pdb\", \"ligand.mol\" # ligand는 sdf, mol "
   ]
  },
  {
   "cell_type": "code",
   "execution_count": 2,
   "id": "f53c6bc5-ab82-481c-9487-d5448f9d5b94",
   "metadata": {},
   "outputs": [
    {
     "name": "stdout",
     "output_type": "stream",
     "text": [
      "YOU ARE HERE: /home/siu/tools/openmmtools/run_protein_ligand_complex\n"
     ]
    }
   ],
   "source": [
    "import os \n",
    "os.chdir(wd)\n",
    "print(f\"YOU ARE HERE: {os.getcwd()}\")"
   ]
  },
  {
   "cell_type": "markdown",
   "id": "b46866b8-11a9-4c90-bfb7-2f5570725312",
   "metadata": {},
   "source": [
    "## 파일 불러오기 및 시스템 생성 (토폴로지 생성, 물 분자 추가)"
   ]
  },
  {
   "cell_type": "code",
   "execution_count": 3,
   "id": "778b73ed-b818-4419-b38b-b86d27e851a9",
   "metadata": {},
   "outputs": [],
   "source": [
    "from openmm.app import PDBFile, Modeller, Simulation, DCDReporter, StateDataReporter\n",
    "from openmm import app, unit, LangevinIntegrator, MonteCarloBarostat\n",
    "from openmmforcefields.generators import SystemGenerator\n",
    "from openff.toolkit import Molecule"
   ]
  },
  {
   "cell_type": "code",
   "execution_count": 4,
   "id": "46346901-762b-4c46-9009-1cb6eb755f40",
   "metadata": {},
   "outputs": [],
   "source": [
    "protein = PDBFile(protein_fn)\n",
    "ligand = Molecule.from_file(ligand_fn)"
   ]
  },
  {
   "cell_type": "code",
   "execution_count": 5,
   "id": "d7ef9624-81fb-40be-904b-e0d776a4902a",
   "metadata": {},
   "outputs": [],
   "source": [
    "# SystemGenerator 생성\n",
    "system_generator = SystemGenerator(\n",
    "    forcefields=['amber/ff14SB.xml', 'amber/tip3p_standard.xml'],\n",
    "    small_molecule_forcefield='gaff-2.11',\n",
    "    molecules=[ligand],\n",
    "    forcefield_kwargs={\n",
    "        'constraints': app.HBonds,\n",
    "        'rigidWater': True,\n",
    "        'removeCMMotion': False,\n",
    "        'hydrogenMass': 4 * unit.amu\n",
    "    }\n",
    ")"
   ]
  },
  {
   "cell_type": "code",
   "execution_count": 6,
   "id": "8a44f494-b7b8-442f-967d-c389828d6b7e",
   "metadata": {},
   "outputs": [],
   "source": [
    "# Modeller로 단백질+리간드 복합체 생성\n",
    "modeller = Modeller(protein.topology, protein.positions)   # 모델러 객체 생성 (단백질 좌표, 토폴로지)\n",
    "ligand_topology = ligand.to_topology()                     # 리간드 토폴로지 생성\n",
    "modeller.add(ligand_topology.to_openmm(),                  # OpenFF 정보를 OpenMM으로 변환하여 modeller에 추가\n",
    "             ligand.conformers[0].to_openmm())\n",
    "\n",
    "with open(\"system.pdb\", \"w\") as f:\n",
    "    PDBFile.writeFile(modeller.topology, modeller.positions, f)"
   ]
  },
  {
   "cell_type": "code",
   "execution_count": 7,
   "id": "77b4bee6-0536-4680-a6e5-ddf554f49fa7",
   "metadata": {},
   "outputs": [
    {
     "name": "stdout",
     "output_type": "stream",
     "text": [
      "✅ No water found. Adding water with periodic boundary conditions.\n",
      "💧 Water added to the system.\n"
     ]
    }
   ],
   "source": [
    "# 워터 박스 추가 (PBC 박스와 물 분자를 미리 체크해서 중복 추가 방지) \n",
    "from collections import Counter\n",
    "resnames = [res.name.upper() for res in modeller.topology.residues()] # 1. 현재 topology residue 이름 수집\n",
    "res_counter = Counter(resnames)\n",
    "water_resnames = {'HOH', 'WAT', 'TIP3', 'H2O'} # 2. 물 residue 이름 정의\n",
    "num_waters = sum(res_counter[res] for res in water_resnames) # 3. 물 분자 갯수 확인\n",
    "box_vectors = modeller.topology.getPeriodicBoxVectors() # 4. 박스 벡터 설정 여부 확인\n",
    "\n",
    "# 4. 조건 만족 여부 확인\n",
    "if box_vectors is not None and num_waters >= 100:\n",
    "    print(f\"✅ Water already present ({num_waters} residues) with PBC box. Skipping solvation.\")\n",
    "else:\n",
    "    print(f\"✅ No water found. Adding water with periodic boundary conditions.\")\n",
    "    modeller.addSolvent(\n",
    "        system_generator.forcefield,\n",
    "        padding=1.0 * unit.nanometer,\n",
    "        ionicStrength=0.15 * unit.molar,\n",
    "        neutralize=True\n",
    "    )\n",
    "    print(\"💧 Water added to the system.\")\n",
    "\n",
    "with open(\"system_solvated.pdb\", \"w\") as f:\n",
    "    PDBFile.writeFile(modeller.topology, modeller.positions, f)"
   ]
  },
  {
   "cell_type": "code",
   "execution_count": 8,
   "id": "aa1dc0eb-99f7-46a2-bd6b-8348eae50a91",
   "metadata": {},
   "outputs": [
    {
     "name": "stdout",
     "output_type": "stream",
     "text": [
      "Protein   : 110 residues (1705 atoms)\n",
      "Hetero    : 1 residues (54 atoms)\n",
      "Ion       : 47 residues (47 atoms)\n",
      "Water     : 7716 residues (23148 atoms)\n",
      "\n",
      "Total: 7874 residues, 24954 atoms\n"
     ]
    }
   ],
   "source": [
    "from collections import defaultdict\n",
    "\n",
    "standard_amino_acids = {\n",
    "    # 표준 아미노산 (20개)\n",
    "    'ALA', 'ARG', 'ASN', 'ASP', 'CYS',\n",
    "    'GLU', 'GLN', 'GLY', 'HIS', 'ILE',\n",
    "    'LEU', 'LYS', 'MET', 'PHE', 'PRO',\n",
    "    'SER', 'THR', 'TRP', 'TYR', 'VAL',\n",
    "\n",
    "    # N-terminus / C-terminus caps\n",
    "    'ACE',   # Acetyl cap (N-term)\n",
    "    'NME',   # N-methylamide cap (C-term)\n",
    "    'NH2',   # C-terminal amide cap (alternative)\n",
    "    'FOR',   # Formyl group (N-term cap)\n",
    "\n",
    "    # 변형 히스티딘 (양성자화 상태 따라 다름)\n",
    "    'HID', 'HIE', 'HIP',\n",
    "\n",
    "    # 비표준 아미노산 / 포스트트랜슬레이션 변형\n",
    "    'SEP',   # Phosphoserine\n",
    "    'TPO',   # Phosphothreonine\n",
    "    'PTR',   # Phosphotyrosine\n",
    "    'MSE',   # Selenomethionine (X-ray 구조에 자주 등장)\n",
    "\n",
    "    # 기타 생체 관련 유사 잔기\n",
    "    'CYX',   # Disulfide-bonded cysteine\n",
    "    'ASX', 'GLX'  # Ambiguous ASP/ASN, GLU/GLN\n",
    "}\n",
    "\n",
    "atom_counts = defaultdict(int)\n",
    "residue_counts = defaultdict(int)\n",
    "\n",
    "for chain in modeller.topology.chains():\n",
    "    for residue in chain.residues():\n",
    "        resname = residue.name.upper()\n",
    "        if resname in ['HOH', 'WAT', 'TIP3', 'H2O']:  # 물\n",
    "            category = 'water'\n",
    "        elif resname in ['NA', 'CL', 'K', 'CA', 'MG']:  # 일반적인 이온\n",
    "            category = 'ion'\n",
    "        elif resname in standard_amino_acids:\n",
    "            category = 'protein'\n",
    "        else:\n",
    "            category = 'hetero'  # 리간드, 보조인자 등\n",
    "\n",
    "        atom_counts[category] += sum(1 for _ in residue.atoms())\n",
    "        residue_counts[category] += 1\n",
    "\n",
    "# 출력\n",
    "for category in ['protein', 'hetero', 'ion', 'water']:\n",
    "    res_count = residue_counts[category]\n",
    "    atom_count = atom_counts[category]\n",
    "    print(f\"{category.capitalize():<10}: {res_count} residues ({atom_count} atoms)\")\n",
    "\n",
    "# 전체 합계\n",
    "total_atoms = sum(atom_counts.values())\n",
    "total_residues = sum(residue_counts.values())\n",
    "print(f\"\\nTotal: {total_residues} residues, {total_atoms} atoms\")\n"
   ]
  },
  {
   "cell_type": "code",
   "execution_count": null,
   "id": "bd5bf750-3022-41d5-ab85-47f7cc7ec82f",
   "metadata": {},
   "outputs": [],
   "source": []
  },
  {
   "cell_type": "markdown",
   "id": "641ee3db-0282-4452-ba4d-5efcbc25a555",
   "metadata": {},
   "source": [
    "## 시스템 최적화 및 평형화"
   ]
  },
  {
   "cell_type": "code",
   "execution_count": 9,
   "id": "ca96bcb8-62d5-4b56-a0e0-eb457b196380",
   "metadata": {},
   "outputs": [
    {
     "name": "stdout",
     "output_type": "stream",
     "text": [
      "Initial system setup complete.\n"
     ]
    }
   ],
   "source": [
    "# System 생성\n",
    "system = system_generator.create_system(modeller.topology, molecules=[ligand])\n",
    "\n",
    "# Integrator 구성 (Langevin → NVT)\n",
    "temperature = 300 * unit.kelvin # 자주 쓰이니까 변수로 지정\n",
    "integrator = LangevinIntegrator(temperature, 1.0 / unit.picosecond, 0.002 * unit.picoseconds)\n",
    "\n",
    "# Simulation 객체 생성\n",
    "simulation = Simulation(modeller.topology, system, integrator)\n",
    "simulation.context.setPositions(modeller.positions)\n",
    "print(\"Initial system setup complete.\")"
   ]
  },
  {
   "cell_type": "code",
   "execution_count": 10,
   "id": "f4b12346-93ee-424a-b8ed-0bafcdfc05d1",
   "metadata": {},
   "outputs": [
    {
     "name": "stdout",
     "output_type": "stream",
     "text": [
      "Energy minimization done. Saved system_minimized.pdb\n",
      "CPU times: user 7.91 s, sys: 598 ms, total: 8.5 s\n",
      "Wall time: 8.49 s\n"
     ]
    }
   ],
   "source": [
    "%%time\n",
    "# 에너지 최적화\n",
    "simulation.minimizeEnergy()\n",
    "\n",
    "# 최소화 후 구조 저장\n",
    "with open(\"system_minimized.pdb\", \"w\") as f:\n",
    "    PDBFile.writeFile(modeller.topology,\n",
    "                      simulation.context.getState(getPositions=True).getPositions(),\n",
    "                      file=f)\n",
    "\n",
    "print(\"Energy minimization done. Saved system_minimized.pdb\")"
   ]
  },
  {
   "cell_type": "code",
   "execution_count": 11,
   "id": "70570f52-9338-417e-b121-2ca91a9b31a7",
   "metadata": {},
   "outputs": [
    {
     "name": "stderr",
     "output_type": "stream",
     "text": [
      "NVT equilibration: 100%|████████████████████████████████| 1000/1000 [00:29<00:00, 33.61it/s]\n"
     ]
    }
   ],
   "source": [
    "# NVT 평형 - barostat(압력 조절기) 없이 온도만 유지\n",
    "from tqdm import tqdm\n",
    "total_steps, chunk_size = 100000, 100\n",
    "for _ in tqdm(range(0, total_steps, chunk_size), desc=\"NVT equilibration\"):\n",
    "    simulation.step(chunk_size)\n",
    "\n",
    "# 📥 시뮬레이션 종료 후 상태 저장 (NVT 결과)\n",
    "with open(\"system_nvt.pdb\", \"w\") as f:\n",
    "    pdb_file = PDBFile.writeFile(simulation.topology,\n",
    "        simulation.context.getState(getPositions=True).getPositions(),\n",
    "        file=f\n",
    "    )"
   ]
  },
  {
   "cell_type": "code",
   "execution_count": 12,
   "id": "e11d4ef3-ed2c-413f-a8fc-e8f9d50f2ea3",
   "metadata": {},
   "outputs": [
    {
     "name": "stderr",
     "output_type": "stream",
     "text": [
      "NPT equilibration: 100%|████████████████████████████████| 1000/1000 [00:29<00:00, 33.45it/s]\n"
     ]
    }
   ],
   "source": [
    "from openmm import MonteCarloBarostat\n",
    "# NPT 평형 - barostat를 추가하여 압력을 조절\n",
    "simulation.context.setVelocitiesToTemperature(temperature) # 속도 재설정 (온도에 맞게 초기화)\n",
    "simulation.context.getSystem().addForce(\n",
    "    MonteCarloBarostat(1.0 * unit.atmospheres, temperature, 25)\n",
    ") # 시스템에 barostat 추가 (1 atm 압력 유지, 25 스텝마다 시도)\n",
    "for _ in tqdm(range(0, total_steps, chunk_size), desc=\"NPT equilibration\"):\n",
    "    simulation.step(chunk_size)\n",
    "\n",
    "# 📥 시뮬레이션 종료 후 상태 저장 (NVT 결과)\n",
    "with open(\"system_npt.pdb\", \"w\") as f:\n",
    "    pdb_file = PDBFile.writeFile(simulation.topology,\n",
    "        simulation.context.getState(getPositions=True).getPositions(),\n",
    "        file=f\n",
    "    )"
   ]
  },
  {
   "cell_type": "code",
   "execution_count": null,
   "id": "f9d5ee18-6174-4d02-96a5-4bc95affb2b0",
   "metadata": {},
   "outputs": [],
   "source": []
  },
  {
   "cell_type": "markdown",
   "id": "fd6dde0e-352b-4bbd-9e55-300f702edb1d",
   "metadata": {},
   "source": [
    "## Production Run"
   ]
  },
  {
   "cell_type": "code",
   "execution_count": 13,
   "id": "9794152e-5b07-4b3e-b92f-dca0f611b1a3",
   "metadata": {},
   "outputs": [],
   "source": [
    "# Production run\n",
    "production_steps = 50000  # 예: 50,000 steps → 100 ps"
   ]
  },
  {
   "cell_type": "code",
   "execution_count": 14,
   "id": "58f7ab8e-9671-4b05-b42f-25ddf09b452c",
   "metadata": {},
   "outputs": [],
   "source": [
    "# 리포터 설정\n",
    "simulation.reporters.append(DCDReporter(\"md.dcd\", 1000))  # 1000스텝(=2ps)마다 DCD 프레임 저장\n",
    "simulation.reporters.append(\n",
    "    StateDataReporter(\"md.log\", 1000,                     # 로그 파일 저장\n",
    "                      step=True, potentialEnergy=True,\n",
    "                      temperature=True, density=True, volume=True)\n",
    ")"
   ]
  },
  {
   "cell_type": "code",
   "execution_count": 15,
   "id": "9cbb7960-e10c-4279-b92c-023609a42f19",
   "metadata": {},
   "outputs": [
    {
     "name": "stderr",
     "output_type": "stream",
     "text": [
      "Production MD: 100%|██████████████████████████████████████| 500/500 [00:15<00:00, 31.76it/s]"
     ]
    },
    {
     "name": "stdout",
     "output_type": "stream",
     "text": [
      "✅ Production MD complete.\n"
     ]
    },
    {
     "name": "stderr",
     "output_type": "stream",
     "text": [
      "\n"
     ]
    }
   ],
   "source": [
    "for _ in tqdm(range(0, production_steps, chunk_size), desc=\"Production MD\"):\n",
    "    simulation.step(chunk_size)\n",
    "\n",
    "print(\"✅ Production MD complete.\")"
   ]
  },
  {
   "cell_type": "code",
   "execution_count": 16,
   "id": "4d14e2b4-507e-42d5-9826-c55cd188cf16",
   "metadata": {},
   "outputs": [],
   "source": [
    "import mdtraj as md\n",
    "\n",
    "# 단백질을 중앙에 놓기 (PBC 때문)\n",
    "traj = md.load(\"md.dcd\", top=\"system_solvated.pdb\")\n",
    "traj.image_molecules(inplace=True)\n",
    "\n",
    "# 단백질 구조를 레퍼런스에 정렬시키기\n",
    "ref = md.load(\"system_solvated.pdb\")\n",
    "protein = traj.topology.select(\"protein\")\n",
    "ref_protein = ref.topology.select(\"protein\")\n",
    "traj.superpose(ref, atom_indices=protein, ref_atom_indices=ref_protein)\n",
    "\n",
    "# 저장\n",
    "traj.save_dcd(\"md_align.dcd\")             # 정렬된 trajectory\n",
    "traj[0].save_pdb(\"md_align.pdb\")    # 정렬된 첫 프레임 (topology용)"
   ]
  },
  {
   "cell_type": "code",
   "execution_count": 17,
   "id": "ed688d00-3995-49ed-93a6-171e00fd53c1",
   "metadata": {},
   "outputs": [
    {
     "name": "stdout",
     "output_type": "stream",
     "text": [
      "CHECK YOUR FILES: md_align.pdb and .dcd\n"
     ]
    }
   ],
   "source": [
    "print(\"CHECK YOUR FILES: md_align.pdb and .dcd\")"
   ]
  },
  {
   "cell_type": "code",
   "execution_count": null,
   "id": "8c2f2228-1a76-4ce2-a774-b2af4d7b2ed2",
   "metadata": {},
   "outputs": [],
   "source": []
  },
  {
   "cell_type": "code",
   "execution_count": null,
   "id": "dff356bd-abce-43aa-a2cd-8668af87fceb",
   "metadata": {},
   "outputs": [],
   "source": []
  }
 ],
 "metadata": {
  "kernelspec": {
   "display_name": "Python 3 (ipykernel)",
   "language": "python",
   "name": "python3"
  },
  "language_info": {
   "codemirror_mode": {
    "name": "ipython",
    "version": 3
   },
   "file_extension": ".py",
   "mimetype": "text/x-python",
   "name": "python",
   "nbconvert_exporter": "python",
   "pygments_lexer": "ipython3",
   "version": "3.10.14"
  }
 },
 "nbformat": 4,
 "nbformat_minor": 5
}
